{
 "cells": [
  {
   "cell_type": "code",
   "execution_count": 4,
   "id": "6672031c",
   "metadata": {},
   "outputs": [
    {
     "name": "stdout",
     "output_type": "stream",
     "text": [
      "1. Data e hora atual;\n",
      "2. Uma mensagem motivacional para o fim do semestre;\n",
      "3. A quantidade de respostas emitidas pelo servidor até o momento.\n",
      "4. Sair\n",
      "Seja forte!\n",
      "1. Data e hora atual;\n",
      "2. Uma mensagem motivacional para o fim do semestre;\n",
      "3. A quantidade de respostas emitidas pelo servidor até o momento.\n",
      "4. Sair\n",
      "O servidor respondeu a X solicitações até o momento.\n",
      "1. Data e hora atual;\n",
      "2. Uma mensagem motivacional para o fim do semestre;\n",
      "3. A quantidade de respostas emitidas pelo servidor até o momento.\n",
      "4. Sair\n",
      "Saindo...\n"
     ]
    }
   ],
   "source": [
    "import time\n",
    "\n",
    "current_time = time.localtime()\n",
    "\n",
    "formatted_time = time.strftime(\"%a %b %d %H:%M:%S %Y\", current_time)\n",
    "result = 0\n",
    "while(result != 4):\n",
    "    print(\"1. Data e hora atual;\")\n",
    "    print(\"2. Uma mensagem motivacional para o fim do semestre;\")\n",
    "    print(\"3. A quantidade de respostas emitidas pelo servidor até o momento.\")\n",
    "    print(\"4. Sair\")\n",
    "\n",
    "    result = int(input())\n",
    "    if result ==1:\n",
    "        print(formatted_time)\n",
    "    elif result ==2:\n",
    "        print(\"Seja forte!\")\n",
    "    elif result ==3:\n",
    "        print(\"5\")\n",
    "    elif result ==4:\n",
    "        print('Saindo...')\n",
    "    else:\n",
    "        print(\"Opção inválida. Tente novamente.\")\n"
   ]
  },
  {
   "cell_type": "code",
   "execution_count": 2,
   "id": "b8e91491",
   "metadata": {},
   "outputs": [
    {
     "name": "stdout",
     "output_type": "stream",
     "text": [
      "Tue Oct 22 15:20:54 2024\n"
     ]
    }
   ],
   "source": [
    "\n",
    "\n",
    "\n"
   ]
  }
 ],
 "metadata": {
  "kernelspec": {
   "display_name": "Python 3",
   "language": "python",
   "name": "python3"
  },
  "language_info": {
   "codemirror_mode": {
    "name": "ipython",
    "version": 3
   },
   "file_extension": ".py",
   "mimetype": "text/x-python",
   "name": "python",
   "nbconvert_exporter": "python",
   "pygments_lexer": "ipython3",
   "version": "3.10.12"
  }
 },
 "nbformat": 4,
 "nbformat_minor": 5
}
